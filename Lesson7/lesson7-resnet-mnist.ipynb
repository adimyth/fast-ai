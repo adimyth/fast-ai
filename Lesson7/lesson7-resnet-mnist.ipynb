{
  "nbformat": 4,
  "nbformat_minor": 0,
  "metadata": {
    "colab": {
      "name": "lesson7-resnet-mnist.ipynb",
      "version": "0.3.2",
      "provenance": [],
      "toc_visible": true,
      "include_colab_link": true
    },
    "language_info": {
      "codemirror_mode": {
        "name": "ipython",
        "version": 3
      },
      "file_extension": ".py",
      "mimetype": "text/x-python",
      "name": "python",
      "nbconvert_exporter": "python",
      "pygments_lexer": "ipython3",
      "version": "3.6.0"
    },
    "kernelspec": {
      "name": "python3",
      "display_name": "Python 3"
    },
    "accelerator": "GPU"
  },
  "cells": [
    {
      "cell_type": "markdown",
      "metadata": {
        "id": "view-in-github",
        "colab_type": "text"
      },
      "source": [
        "<a href=\"https://colab.research.google.com/github/adimyth/fast-ai/blob/master/Lesson7/lesson7-resnet-mnist.ipynb\" target=\"_parent\"><img src=\"https://colab.research.google.com/assets/colab-badge.svg\" alt=\"Open In Colab\"/></a>"
      ]
    },
    {
      "metadata": {
        "id": "TOIBnLOhQMDo",
        "colab_type": "text"
      },
      "cell_type": "markdown",
      "source": [
        "## MNIST CNN"
      ]
    },
    {
      "metadata": {
        "id": "Ivn4kB-7QMDr",
        "colab_type": "code",
        "colab": {}
      },
      "cell_type": "code",
      "source": [
        "%reload_ext autoreload\n",
        "%autoreload 2\n",
        "%matplotlib inline"
      ],
      "execution_count": 0,
      "outputs": []
    },
    {
      "metadata": {
        "id": "xCcKKCQOQMDz",
        "colab_type": "code",
        "colab": {}
      },
      "cell_type": "code",
      "source": [
        "from fastai.vision import *"
      ],
      "execution_count": 0,
      "outputs": []
    },
    {
      "metadata": {
        "id": "a_X-y072QMD3",
        "colab_type": "text"
      },
      "cell_type": "markdown",
      "source": [
        "### Data"
      ]
    },
    {
      "metadata": {
        "id": "1iaCgMxfQMD5",
        "colab_type": "code",
        "colab": {}
      },
      "cell_type": "code",
      "source": [
        "path = untar_data(URLs.MNIST)"
      ],
      "execution_count": 0,
      "outputs": []
    },
    {
      "metadata": {
        "id": "WkFXrkMKQMD9",
        "colab_type": "code",
        "colab": {
          "base_uri": "https://localhost:8080/",
          "height": 51
        },
        "outputId": "8ebb3800-30d7-40bd-cb6f-f9160bb988c0"
      },
      "cell_type": "code",
      "source": [
        "path.ls()"
      ],
      "execution_count": 5,
      "outputs": [
        {
          "output_type": "execute_result",
          "data": {
            "text/plain": [
              "[PosixPath('/root/.fastai/data/mnist_png/training'),\n",
              " PosixPath('/root/.fastai/data/mnist_png/testing')]"
            ]
          },
          "metadata": {
            "tags": []
          },
          "execution_count": 5
        }
      ]
    },
    {
      "metadata": {
        "id": "pRGpBeQUQMEM",
        "colab_type": "code",
        "colab": {}
      },
      "cell_type": "code",
      "source": [
        "il = ImageList.from_folder(path, convert_mode='L')"
      ],
      "execution_count": 0,
      "outputs": []
    },
    {
      "metadata": {
        "id": "PX2Hgdt2QMEQ",
        "colab_type": "code",
        "colab": {
          "base_uri": "https://localhost:8080/",
          "height": 68
        },
        "outputId": "e8ded17c-2e6f-43eb-d6d2-1286d5d7cd78"
      },
      "cell_type": "code",
      "source": [
        "il"
      ],
      "execution_count": 7,
      "outputs": [
        {
          "output_type": "execute_result",
          "data": {
            "text/plain": [
              "ImageList (70000 items)\n",
              "Image (1, 28, 28),Image (1, 28, 28),Image (1, 28, 28),Image (1, 28, 28),Image (1, 28, 28)\n",
              "Path: /root/.fastai/data/mnist_png"
            ]
          },
          "metadata": {
            "tags": []
          },
          "execution_count": 7
        }
      ]
    },
    {
      "metadata": {
        "id": "-YWzRy0EQMEW",
        "colab_type": "code",
        "colab": {
          "base_uri": "https://localhost:8080/",
          "height": 34
        },
        "outputId": "c27ac3ee-4bc4-4b8c-d18b-810197e99968"
      },
      "cell_type": "code",
      "source": [
        "il.items[0]"
      ],
      "execution_count": 8,
      "outputs": [
        {
          "output_type": "execute_result",
          "data": {
            "text/plain": [
              "PosixPath('/root/.fastai/data/mnist_png/training/1/8156.png')"
            ]
          },
          "metadata": {
            "tags": []
          },
          "execution_count": 8
        }
      ]
    },
    {
      "metadata": {
        "id": "ttuqu5UoQMEc",
        "colab_type": "code",
        "colab": {}
      },
      "cell_type": "code",
      "source": [
        "defaults.cmap='binary'"
      ],
      "execution_count": 0,
      "outputs": []
    },
    {
      "metadata": {
        "id": "JM3LcppcQMEi",
        "colab_type": "code",
        "colab": {
          "base_uri": "https://localhost:8080/",
          "height": 212
        },
        "outputId": "d582ca07-a953-406a-fae8-cab102acaa0d"
      },
      "cell_type": "code",
      "source": [
        "il[0].show()"
      ],
      "execution_count": 10,
      "outputs": [
        {
          "output_type": "display_data",
          "data": {
            "image/png": "[encoded data removed]",
            "text/plain": [
              "<Figure size 216x216 with 1 Axes>"
            ]
          },
          "metadata": {
            "tags": []
          }
        }
      ]
    },
    {
      "metadata": {
        "id": "SM7MK2LTQMEo",
        "colab_type": "code",
        "colab": {}
      },
      "cell_type": "code",
      "source": [
        "sd = il.split_by_folder(train='training', valid='testing')"
      ],
      "execution_count": 0,
      "outputs": []
    },
    {
      "metadata": {
        "id": "icYxRiPGQMEt",
        "colab_type": "code",
        "colab": {
          "base_uri": "https://localhost:8080/",
          "height": 204
        },
        "outputId": "403adf57-0360-42ee-fc62-7525d54ea676"
      },
      "cell_type": "code",
      "source": [
        "sd"
      ],
      "execution_count": 12,
      "outputs": [
        {
          "output_type": "execute_result",
          "data": {
            "text/plain": [
              "ItemLists;\n",
              "\n",
              "Train: ImageList (60000 items)\n",
              "Image (1, 28, 28),Image (1, 28, 28),Image (1, 28, 28),Image (1, 28, 28),Image (1, 28, 28)\n",
              "Path: /root/.fastai/data/mnist_png;\n",
              "\n",
              "Valid: ImageList (10000 items)\n",
              "Image (1, 28, 28),Image (1, 28, 28),Image (1, 28, 28),Image (1, 28, 28),Image (1, 28, 28)\n",
              "Path: /root/.fastai/data/mnist_png;\n",
              "\n",
              "Test: None"
            ]
          },
          "metadata": {
            "tags": []
          },
          "execution_count": 12
        }
      ]
    },
    {
      "metadata": {
        "id": "UrJ-8OdUQMEy",
        "colab_type": "code",
        "colab": {
          "base_uri": "https://localhost:8080/",
          "height": 187
        },
        "outputId": "253248bc-c8e4-4035-ef2b-9d25d8aa7ed4"
      },
      "cell_type": "code",
      "source": [
        "(path/'training').ls()"
      ],
      "execution_count": 13,
      "outputs": [
        {
          "output_type": "execute_result",
          "data": {
            "text/plain": [
              "[PosixPath('/root/.fastai/data/mnist_png/training/1'),\n",
              " PosixPath('/root/.fastai/data/mnist_png/training/5'),\n",
              " PosixPath('/root/.fastai/data/mnist_png/training/6'),\n",
              " PosixPath('/root/.fastai/data/mnist_png/training/9'),\n",
              " PosixPath('/root/.fastai/data/mnist_png/training/2'),\n",
              " PosixPath('/root/.fastai/data/mnist_png/training/3'),\n",
              " PosixPath('/root/.fastai/data/mnist_png/training/4'),\n",
              " PosixPath('/root/.fastai/data/mnist_png/training/8'),\n",
              " PosixPath('/root/.fastai/data/mnist_png/training/0'),\n",
              " PosixPath('/root/.fastai/data/mnist_png/training/7')]"
            ]
          },
          "metadata": {
            "tags": []
          },
          "execution_count": 13
        }
      ]
    },
    {
      "metadata": {
        "id": "3JS6vdJ2QME5",
        "colab_type": "code",
        "colab": {}
      },
      "cell_type": "code",
      "source": [
        "ll = sd.label_from_folder()"
      ],
      "execution_count": 0,
      "outputs": []
    },
    {
      "metadata": {
        "id": "xA-ShI5mQME_",
        "colab_type": "code",
        "colab": {
          "base_uri": "https://localhost:8080/",
          "height": 306
        },
        "outputId": "9559e66b-9629-4f1c-82e4-2b004749f792"
      },
      "cell_type": "code",
      "source": [
        "ll"
      ],
      "execution_count": 15,
      "outputs": [
        {
          "output_type": "execute_result",
          "data": {
            "text/plain": [
              "LabelLists;\n",
              "\n",
              "Train: LabelList (60000 items)\n",
              "x: ImageList\n",
              "Image (1, 28, 28),Image (1, 28, 28),Image (1, 28, 28),Image (1, 28, 28),Image (1, 28, 28)\n",
              "y: CategoryList\n",
              "1,1,1,1,1\n",
              "Path: /root/.fastai/data/mnist_png;\n",
              "\n",
              "Valid: LabelList (10000 items)\n",
              "x: ImageList\n",
              "Image (1, 28, 28),Image (1, 28, 28),Image (1, 28, 28),Image (1, 28, 28),Image (1, 28, 28)\n",
              "y: CategoryList\n",
              "1,1,1,1,1\n",
              "Path: /root/.fastai/data/mnist_png;\n",
              "\n",
              "Test: None"
            ]
          },
          "metadata": {
            "tags": []
          },
          "execution_count": 15
        }
      ]
    },
    {
      "metadata": {
        "id": "660tPXTrQMFJ",
        "colab_type": "code",
        "colab": {}
      },
      "cell_type": "code",
      "source": [
        "x,y = ll.train[0]"
      ],
      "execution_count": 0,
      "outputs": []
    },
    {
      "metadata": {
        "id": "AhoEgqStQMFP",
        "colab_type": "code",
        "colab": {
          "base_uri": "https://localhost:8080/",
          "height": 229
        },
        "outputId": "e62c7e91-c9f4-43cb-84ed-9fbb54cffd84"
      },
      "cell_type": "code",
      "source": [
        "x.show()\n",
        "print(y,x.shape)"
      ],
      "execution_count": 17,
      "outputs": [
        {
          "output_type": "stream",
          "text": [
            "1 torch.Size([1, 28, 28])\n"
          ],
          "name": "stdout"
        },
        {
          "output_type": "display_data",
          "data": {
            "image/png": "[encoded data removed]",
            "text/plain": [
              "<Figure size 216x216 with 1 Axes>"
            ]
          },
          "metadata": {
            "tags": []
          }
        }
      ]
    },
    {
      "metadata": {
        "id": "HLc-BgCEQMFW",
        "colab_type": "code",
        "colab": {
          "base_uri": "https://localhost:8080/",
          "height": 173
        },
        "outputId": "bf1397ff-e230-460c-8238-eefbf91bec5a"
      },
      "cell_type": "code",
      "source": [
        "get_transforms()"
      ],
      "execution_count": 18,
      "outputs": [
        {
          "output_type": "execute_result",
          "data": {
            "text/plain": [
              "([RandTransform(tfm=TfmCrop (crop_pad), kwargs={'row_pct': (0, 1), 'col_pct': (0, 1), 'padding_mode': 'reflection'}, p=1.0, resolved={}, do_run=True, is_random=True),\n",
              "  RandTransform(tfm=TfmPixel (flip_lr), kwargs={}, p=0.5, resolved={}, do_run=True, is_random=True),\n",
              "  RandTransform(tfm=TfmCoord (symmetric_warp), kwargs={'magnitude': (-0.2, 0.2)}, p=0.75, resolved={}, do_run=True, is_random=True),\n",
              "  RandTransform(tfm=TfmAffine (rotate), kwargs={'degrees': (-10.0, 10.0)}, p=0.75, resolved={}, do_run=True, is_random=True),\n",
              "  RandTransform(tfm=TfmAffine (zoom), kwargs={'scale': (1.0, 1.1), 'row_pct': (0, 1), 'col_pct': (0, 1)}, p=0.75, resolved={}, do_run=True, is_random=True),\n",
              "  RandTransform(tfm=TfmLighting (brightness), kwargs={'change': (0.4, 0.6)}, p=0.75, resolved={}, do_run=True, is_random=True),\n",
              "  RandTransform(tfm=TfmLighting (contrast), kwargs={'scale': (0.8, 1.25)}, p=0.75, resolved={}, do_run=True, is_random=True)],\n",
              " [RandTransform(tfm=TfmCrop (crop_pad), kwargs={}, p=1.0, resolved={}, do_run=True, is_random=True)])"
            ]
          },
          "metadata": {
            "tags": []
          },
          "execution_count": 18
        }
      ]
    },
    {
      "metadata": {
        "id": "xTUeX2jqQMFd",
        "colab_type": "code",
        "colab": {}
      },
      "cell_type": "code",
      "source": [
        "tfms = ([*rand_pad(padding=3, size=28, mode='zeros')], [])"
      ],
      "execution_count": 0,
      "outputs": []
    },
    {
      "metadata": {
        "id": "uwWPb25tQMFj",
        "colab_type": "code",
        "colab": {}
      },
      "cell_type": "code",
      "source": [
        "ll = ll.transform(tfms)"
      ],
      "execution_count": 0,
      "outputs": []
    },
    {
      "metadata": {
        "id": "JvmkbqoFQMFn",
        "colab_type": "code",
        "colab": {}
      },
      "cell_type": "code",
      "source": [
        "bs = 128"
      ],
      "execution_count": 0,
      "outputs": []
    },
    {
      "metadata": {
        "id": "y6upAOCYQMFr",
        "colab_type": "code",
        "colab": {}
      },
      "cell_type": "code",
      "source": [
        "# not using imagenet_stats because not using pretrained model\n",
        "data = ll.databunch(bs=bs).normalize()"
      ],
      "execution_count": 0,
      "outputs": []
    },
    {
      "metadata": {
        "id": "DAJPo4qbQMF2",
        "colab_type": "code",
        "colab": {}
      },
      "cell_type": "code",
      "source": [
        "x,y = data.train_ds[0]"
      ],
      "execution_count": 0,
      "outputs": []
    },
    {
      "metadata": {
        "id": "Ezz7WgLTQMF7",
        "colab_type": "code",
        "colab": {
          "base_uri": "https://localhost:8080/",
          "height": 229
        },
        "outputId": "b34bb269-74f4-4d64-9b51-25bfe367f95d"
      },
      "cell_type": "code",
      "source": [
        "x.show()\n",
        "print(y)"
      ],
      "execution_count": 24,
      "outputs": [
        {
          "output_type": "stream",
          "text": [
            "1\n"
          ],
          "name": "stdout"
        },
        {
          "output_type": "display_data",
          "data": {
            "image/png": "[encoded data removed]",
            "text/plain": [
              "<Figure size 216x216 with 1 Axes>"
            ]
          },
          "metadata": {
            "tags": []
          }
        }
      ]
    },
    {
      "metadata": {
        "id": "9wwuUQVHQMGB",
        "colab_type": "code",
        "colab": {
          "base_uri": "https://localhost:8080/",
          "height": 484
        },
        "outputId": "8cbb5e4b-aab7-4138-8c69-042cdfc0f166"
      },
      "cell_type": "code",
      "source": [
        "def _plot(i,j,ax): data.train_ds[0][0].show(ax, cmap='gray')\n",
        "plot_multi(_plot, 3, 3, figsize=(8,8))"
      ],
      "execution_count": 25,
      "outputs": [
        {
          "output_type": "display_data",
          "data": {
            "image/png": "[encoded data removed]",
            "text/plain": [
              "<Figure size 576x576 with 9 Axes>"
            ]
          },
          "metadata": {
            "tags": []
          }
        }
      ]
    },
    {
      "metadata": {
        "id": "VrkWlCfmQMGK",
        "colab_type": "code",
        "colab": {
          "base_uri": "https://localhost:8080/",
          "height": 34
        },
        "outputId": "a5562f33-8edf-4b15-e15e-5e36cbb96eca"
      },
      "cell_type": "code",
      "source": [
        "xb,yb = data.one_batch()\n",
        "xb.shape, yb.shape"
      ],
      "execution_count": 26,
      "outputs": [
        {
          "output_type": "execute_result",
          "data": {
            "text/plain": [
              "(torch.Size([128, 1, 28, 28]), torch.Size([128]))"
            ]
          },
          "metadata": {
            "tags": []
          },
          "execution_count": 26
        }
      ]
    },
    {
      "metadata": {
        "id": "enQ1mQuVQMGQ",
        "colab_type": "code",
        "colab": {
          "base_uri": "https://localhost:8080/",
          "height": 369
        },
        "outputId": "08d1ee69-f253-45b9-9ee3-7ada22006101"
      },
      "cell_type": "code",
      "source": [
        "data.show_batch(rows=3, figsize=(5,5))"
      ],
      "execution_count": 27,
      "outputs": [
        {
          "output_type": "display_data",
          "data": {
            "image/png": "[encoded data removed]",
            "text/plain": [
              "<Figure size 360x360 with 9 Axes>"
            ]
          },
          "metadata": {
            "tags": []
          }
        }
      ]
    },
    {
      "metadata": {
        "id": "UC76yCsDQMGW",
        "colab_type": "text"
      },
      "cell_type": "markdown",
      "source": [
        "### Basic CNN with batchnorm"
      ]
    },
    {
      "metadata": {
        "id": "HpPHud6XQMGX",
        "colab_type": "code",
        "colab": {}
      },
      "cell_type": "code",
      "source": [
        "def conv(ni,nf): return nn.Conv2d(ni, nf, kernel_size=3, stride=2, padding=1)"
      ],
      "execution_count": 0,
      "outputs": []
    },
    {
      "metadata": {
        "id": "xDAzgkq0QMGb",
        "colab_type": "code",
        "colab": {}
      },
      "cell_type": "code",
      "source": [
        "model = nn.Sequential(\n",
        "    conv(1, 8), # 14\n",
        "    nn.BatchNorm2d(8),\n",
        "    nn.ReLU(),\n",
        "    conv(8, 16), # 7\n",
        "    nn.BatchNorm2d(16),\n",
        "    nn.ReLU(),\n",
        "    conv(16, 32), # 4\n",
        "    nn.BatchNorm2d(32),\n",
        "    nn.ReLU(),\n",
        "    conv(32, 16), # 2\n",
        "    nn.BatchNorm2d(16),\n",
        "    nn.ReLU(),\n",
        "    conv(16, 10), # 1\n",
        "    nn.BatchNorm2d(10),\n",
        "    Flatten()     # remove (1,1) grid\n",
        ")"
      ],
      "execution_count": 0,
      "outputs": []
    },
    {
      "metadata": {
        "id": "Z_4VnHl6QMGe",
        "colab_type": "code",
        "colab": {}
      },
      "cell_type": "code",
      "source": [
        "learn = Learner(data, model, loss_func = nn.CrossEntropyLoss(), metrics=accuracy)"
      ],
      "execution_count": 0,
      "outputs": []
    },
    {
      "metadata": {
        "id": "CmDvvbVfQMGi",
        "colab_type": "code",
        "colab": {
          "base_uri": "https://localhost:8080/",
          "height": 663
        },
        "outputId": "f19e0d1e-3996-49fb-b194-d9de6d9e8e28"
      },
      "cell_type": "code",
      "source": [
        "print(learn.summary())"
      ],
      "execution_count": 31,
      "outputs": [
        {
          "output_type": "stream",
          "text": [
            "======================================================================\n",
            "Layer (type)         Output Shape         Param #    Trainable \n",
            "======================================================================\n",
            "Conv2d               [8, 14, 14]          80         True      \n",
            "______________________________________________________________________\n",
            "BatchNorm2d          [8, 14, 14]          16         True      \n",
            "______________________________________________________________________\n",
            "ReLU                 [8, 14, 14]          0          False     \n",
            "______________________________________________________________________\n",
            "Conv2d               [16, 7, 7]           1,168      True      \n",
            "______________________________________________________________________\n",
            "BatchNorm2d          [16, 7, 7]           32         True      \n",
            "______________________________________________________________________\n",
            "ReLU                 [16, 7, 7]           0          False     \n",
            "______________________________________________________________________\n",
            "Conv2d               [32, 4, 4]           4,640      True      \n",
            "______________________________________________________________________\n",
            "BatchNorm2d          [32, 4, 4]           64         True      \n",
            "______________________________________________________________________\n",
            "ReLU                 [32, 4, 4]           0          False     \n",
            "______________________________________________________________________\n",
            "Conv2d               [16, 2, 2]           4,624      True      \n",
            "______________________________________________________________________\n",
            "BatchNorm2d          [16, 2, 2]           32         True      \n",
            "______________________________________________________________________\n",
            "ReLU                 [16, 2, 2]           0          False     \n",
            "______________________________________________________________________\n",
            "Conv2d               [10, 1, 1]           1,450      True      \n",
            "______________________________________________________________________\n",
            "BatchNorm2d          [10, 1, 1]           20         True      \n",
            "______________________________________________________________________\n",
            "Flatten              [10]                 0          False     \n",
            "______________________________________________________________________\n",
            "\n",
            "Total params: 12,126\n",
            "Total trainable params: 12,126\n",
            "Total non-trainable params: 0\n",
            "\n"
          ],
          "name": "stdout"
        }
      ]
    },
    {
      "metadata": {
        "id": "SvVVSuMQQMGl",
        "colab_type": "code",
        "colab": {}
      },
      "cell_type": "code",
      "source": [
        "xb = xb.cuda()"
      ],
      "execution_count": 0,
      "outputs": []
    },
    {
      "metadata": {
        "id": "ImLkkVmIQMGp",
        "colab_type": "code",
        "colab": {
          "base_uri": "https://localhost:8080/",
          "height": 34
        },
        "outputId": "f54a230c-5a3d-4209-f83d-e1642c46eea0"
      },
      "cell_type": "code",
      "source": [
        "model(xb).shape"
      ],
      "execution_count": 33,
      "outputs": [
        {
          "output_type": "execute_result",
          "data": {
            "text/plain": [
              "torch.Size([128, 10])"
            ]
          },
          "metadata": {
            "tags": []
          },
          "execution_count": 33
        }
      ]
    },
    {
      "metadata": {
        "id": "5CR-I8ByQMGw",
        "colab_type": "code",
        "colab": {
          "base_uri": "https://localhost:8080/",
          "height": 34
        },
        "outputId": "64431af2-c244-465f-fcaf-4187cc7a2e1a"
      },
      "cell_type": "code",
      "source": [
        "learn.lr_find(end_lr=100)"
      ],
      "execution_count": 34,
      "outputs": [
        {
          "output_type": "display_data",
          "data": {
            "text/html": [
              ""
            ],
            "text/plain": [
              "<IPython.core.display.HTML object>"
            ]
          },
          "metadata": {
            "tags": []
          }
        },
        {
          "output_type": "stream",
          "text": [
            "LR Finder is complete, type {learner_name}.recorder.plot() to see the graph.\n"
          ],
          "name": "stdout"
        }
      ]
    },
    {
      "metadata": {
        "id": "WhVoUMiPQMG1",
        "colab_type": "code",
        "colab": {
          "base_uri": "https://localhost:8080/",
          "height": 283
        },
        "outputId": "60b1217f-82d7-42d6-82f1-bab89081799f"
      },
      "cell_type": "code",
      "source": [
        "learn.recorder.plot()"
      ],
      "execution_count": 35,
      "outputs": [
        {
          "output_type": "display_data",
          "data": {
            "image/png": "[encoded data removed]",
            "text/plain": [
              "<Figure size 432x288 with 1 Axes>"
            ]
          },
          "metadata": {
            "tags": []
          }
        }
      ]
    },
    {
      "metadata": {
        "id": "9Xl3lXbhQMG7",
        "colab_type": "code",
        "colab": {
          "base_uri": "https://localhost:8080/",
          "height": 142
        },
        "outputId": "bb22d8ab-7651-44ff-def0-54e24ae26ebf"
      },
      "cell_type": "code",
      "source": [
        "learn.fit_one_cycle(3, max_lr=0.1)"
      ],
      "execution_count": 36,
      "outputs": [
        {
          "output_type": "display_data",
          "data": {
            "text/html": [
              "<table border=\"1\" class=\"dataframe\">\n",
              "  <thead>\n",
              "    <tr style=\"text-align: left;\">\n",
              "      <th>epoch</th>\n",
              "      <th>train_loss</th>\n",
              "      <th>valid_loss</th>\n",
              "      <th>accuracy</th>\n",
              "      <th>time</th>\n",
              "    </tr>\n",
              "  </thead>\n",
              "  <tbody>\n",
              "    <tr>\n",
              "      <td>0</td>\n",
              "      <td>0.221275</td>\n",
              "      <td>0.254848</td>\n",
              "      <td>0.920000</td>\n",
              "      <td>00:26</td>\n",
              "    </tr>\n",
              "    <tr>\n",
              "      <td>1</td>\n",
              "      <td>0.143378</td>\n",
              "      <td>0.085811</td>\n",
              "      <td>0.973200</td>\n",
              "      <td>00:23</td>\n",
              "    </tr>\n",
              "    <tr>\n",
              "      <td>2</td>\n",
              "      <td>0.075620</td>\n",
              "      <td>0.046907</td>\n",
              "      <td>0.985600</td>\n",
              "      <td>00:23</td>\n",
              "    </tr>\n",
              "  </tbody>\n",
              "</table>"
            ],
            "text/plain": [
              "<IPython.core.display.HTML object>"
            ]
          },
          "metadata": {
            "tags": []
          }
        }
      ]
    },
    {
      "metadata": {
        "id": "u2YFydvyQMHA",
        "colab_type": "text"
      },
      "cell_type": "markdown",
      "source": [
        "### Refactor"
      ]
    },
    {
      "metadata": {
        "id": "i6xricoRQMHB",
        "colab_type": "code",
        "colab": {}
      },
      "cell_type": "code",
      "source": [
        "def conv2(ni,nf): return conv_layer(ni,nf,stride=2)"
      ],
      "execution_count": 0,
      "outputs": []
    },
    {
      "metadata": {
        "id": "w9k4zCVfQMHE",
        "colab_type": "code",
        "colab": {}
      },
      "cell_type": "code",
      "source": [
        "model = nn.Sequential(\n",
        "    conv2(1, 8),   # 14\n",
        "    conv2(8, 16),  # 7\n",
        "    conv2(16, 32), # 4\n",
        "    conv2(32, 16), # 2\n",
        "    conv2(16, 10), # 1\n",
        "    Flatten()      # remove (1,1) grid\n",
        ")"
      ],
      "execution_count": 0,
      "outputs": []
    },
    {
      "metadata": {
        "id": "5K_NIwcRQMHJ",
        "colab_type": "code",
        "colab": {}
      },
      "cell_type": "code",
      "source": [
        "learn = Learner(data, model, loss_func = nn.CrossEntropyLoss(), metrics=accuracy)"
      ],
      "execution_count": 0,
      "outputs": []
    },
    {
      "metadata": {
        "id": "InDEsypiQMHN",
        "colab_type": "code",
        "colab": {
          "base_uri": "https://localhost:8080/",
          "height": 359
        },
        "outputId": "21c97909-10d3-4e37-8e4f-0badbc16feb6"
      },
      "cell_type": "code",
      "source": [
        "learn.fit_one_cycle(10, max_lr=0.1)"
      ],
      "execution_count": 40,
      "outputs": [
        {
          "output_type": "display_data",
          "data": {
            "text/html": [
              "<table border=\"1\" class=\"dataframe\">\n",
              "  <thead>\n",
              "    <tr style=\"text-align: left;\">\n",
              "      <th>epoch</th>\n",
              "      <th>train_loss</th>\n",
              "      <th>valid_loss</th>\n",
              "      <th>accuracy</th>\n",
              "      <th>time</th>\n",
              "    </tr>\n",
              "  </thead>\n",
              "  <tbody>\n",
              "    <tr>\n",
              "      <td>0</td>\n",
              "      <td>0.229036</td>\n",
              "      <td>0.248543</td>\n",
              "      <td>0.923900</td>\n",
              "      <td>00:24</td>\n",
              "    </tr>\n",
              "    <tr>\n",
              "      <td>1</td>\n",
              "      <td>0.191089</td>\n",
              "      <td>0.117305</td>\n",
              "      <td>0.962100</td>\n",
              "      <td>00:23</td>\n",
              "    </tr>\n",
              "    <tr>\n",
              "      <td>2</td>\n",
              "      <td>0.161756</td>\n",
              "      <td>0.161528</td>\n",
              "      <td>0.946500</td>\n",
              "      <td>00:23</td>\n",
              "    </tr>\n",
              "    <tr>\n",
              "      <td>3</td>\n",
              "      <td>0.133409</td>\n",
              "      <td>0.073132</td>\n",
              "      <td>0.977200</td>\n",
              "      <td>00:23</td>\n",
              "    </tr>\n",
              "    <tr>\n",
              "      <td>4</td>\n",
              "      <td>0.122490</td>\n",
              "      <td>0.274585</td>\n",
              "      <td>0.921200</td>\n",
              "      <td>00:25</td>\n",
              "    </tr>\n",
              "    <tr>\n",
              "      <td>5</td>\n",
              "      <td>0.113925</td>\n",
              "      <td>0.063661</td>\n",
              "      <td>0.980300</td>\n",
              "      <td>00:23</td>\n",
              "    </tr>\n",
              "    <tr>\n",
              "      <td>6</td>\n",
              "      <td>0.077735</td>\n",
              "      <td>0.054638</td>\n",
              "      <td>0.981800</td>\n",
              "      <td>00:25</td>\n",
              "    </tr>\n",
              "    <tr>\n",
              "      <td>7</td>\n",
              "      <td>0.062624</td>\n",
              "      <td>0.042994</td>\n",
              "      <td>0.987300</td>\n",
              "      <td>00:25</td>\n",
              "    </tr>\n",
              "    <tr>\n",
              "      <td>8</td>\n",
              "      <td>0.050942</td>\n",
              "      <td>0.032165</td>\n",
              "      <td>0.989800</td>\n",
              "      <td>00:23</td>\n",
              "    </tr>\n",
              "    <tr>\n",
              "      <td>9</td>\n",
              "      <td>0.043084</td>\n",
              "      <td>0.028699</td>\n",
              "      <td>0.991100</td>\n",
              "      <td>00:23</td>\n",
              "    </tr>\n",
              "  </tbody>\n",
              "</table>"
            ],
            "text/plain": [
              "<IPython.core.display.HTML object>"
            ]
          },
          "metadata": {
            "tags": []
          }
        }
      ]
    },
    {
      "metadata": {
        "id": "LImqmC00QMHV",
        "colab_type": "text"
      },
      "cell_type": "markdown",
      "source": [
        "### Resnet-ish"
      ]
    },
    {
      "metadata": {
        "id": "ZWVxT8d6QMHW",
        "colab_type": "code",
        "colab": {}
      },
      "cell_type": "code",
      "source": [
        "class ResBlock(nn.Module):\n",
        "    def __init__(self, nf):\n",
        "        super().__init__()\n",
        "        self.conv1 = conv_layer(nf,nf)\n",
        "        self.conv2 = conv_layer(nf,nf)\n",
        "        \n",
        "    def forward(self, x): return x + self.conv2(self.conv1(x))"
      ],
      "execution_count": 0,
      "outputs": []
    },
    {
      "metadata": {
        "id": "j5b4QpPVQMHa",
        "colab_type": "code",
        "colab": {
          "base_uri": "https://localhost:8080/",
          "height": 122
        },
        "outputId": "5286404b-55d2-4bd4-a24e-2f7ccc560f4b"
      },
      "cell_type": "code",
      "source": [
        "help(res_block)"
      ],
      "execution_count": 42,
      "outputs": [
        {
          "output_type": "stream",
          "text": [
            "Help on function res_block in module fastai.layers:\n",
            "\n",
            "res_block(nf, dense:bool=False, norm_type:Union[fastai.layers.NormType, NoneType]=<NormType.Batch: 1>, bottle:bool=False, **conv_kwargs)\n",
            "    Resnet block of `nf` features. `conv_kwargs` are passed to `conv_layer`.\n",
            "\n"
          ],
          "name": "stdout"
        }
      ]
    },
    {
      "metadata": {
        "id": "9XoLEJBFQMHk",
        "colab_type": "code",
        "colab": {}
      },
      "cell_type": "code",
      "source": [
        "model = nn.Sequential(\n",
        "    conv2(1, 8),\n",
        "    res_block(8),\n",
        "    conv2(8, 16),\n",
        "    res_block(16),\n",
        "    conv2(16, 32),\n",
        "    res_block(32),\n",
        "    conv2(32, 16),\n",
        "    res_block(16),\n",
        "    conv2(16, 10),\n",
        "    Flatten()\n",
        ")"
      ],
      "execution_count": 0,
      "outputs": []
    },
    {
      "metadata": {
        "id": "jqOeKelSQMHp",
        "colab_type": "code",
        "colab": {}
      },
      "cell_type": "code",
      "source": [
        "def conv_and_res(ni,nf): return nn.Sequential(conv2(ni, nf), res_block(nf))"
      ],
      "execution_count": 0,
      "outputs": []
    },
    {
      "metadata": {
        "id": "7U4FRW7oQMHt",
        "colab_type": "code",
        "colab": {}
      },
      "cell_type": "code",
      "source": [
        "model = nn.Sequential(\n",
        "    conv_and_res(1, 8),\n",
        "    conv_and_res(8, 16),\n",
        "    conv_and_res(16, 32),\n",
        "    conv_and_res(32, 16),\n",
        "    conv2(16, 10),\n",
        "    Flatten()\n",
        ")"
      ],
      "execution_count": 0,
      "outputs": []
    },
    {
      "metadata": {
        "id": "E7KebVUeQMHw",
        "colab_type": "code",
        "colab": {}
      },
      "cell_type": "code",
      "source": [
        "learn = Learner(data, model, loss_func = nn.CrossEntropyLoss(), metrics=accuracy)"
      ],
      "execution_count": 0,
      "outputs": []
    },
    {
      "metadata": {
        "id": "hB_B7-ZLQMH5",
        "colab_type": "code",
        "colab": {
          "base_uri": "https://localhost:8080/",
          "height": 300
        },
        "outputId": "83d18e5f-c0d3-4c12-ad2f-b02d97257c2f"
      },
      "cell_type": "code",
      "source": [
        "learn.lr_find(end_lr=100)\n",
        "learn.recorder.plot()"
      ],
      "execution_count": 47,
      "outputs": [
        {
          "output_type": "display_data",
          "data": {
            "text/html": [
              ""
            ],
            "text/plain": [
              "<IPython.core.display.HTML object>"
            ]
          },
          "metadata": {
            "tags": []
          }
        },
        {
          "output_type": "stream",
          "text": [
            "LR Finder is complete, type {learner_name}.recorder.plot() to see the graph.\n"
          ],
          "name": "stdout"
        },
        {
          "output_type": "display_data",
          "data": {
            "image/png": "[encoded data removed]",
            "text/plain": [
              "<Figure size 432x288 with 1 Axes>"
            ]
          },
          "metadata": {
            "tags": []
          }
        }
      ]
    },
    {
      "metadata": {
        "id": "jsDYR2YqQMH-",
        "colab_type": "code",
        "colab": {
          "base_uri": "https://localhost:8080/",
          "height": 421
        },
        "outputId": "ce40ca36-0c75-40fb-827a-78583ba875d5"
      },
      "cell_type": "code",
      "source": [
        "learn.fit_one_cycle(12, max_lr=0.05)"
      ],
      "execution_count": 48,
      "outputs": [
        {
          "output_type": "display_data",
          "data": {
            "text/html": [
              "<table border=\"1\" class=\"dataframe\">\n",
              "  <thead>\n",
              "    <tr style=\"text-align: left;\">\n",
              "      <th>epoch</th>\n",
              "      <th>train_loss</th>\n",
              "      <th>valid_loss</th>\n",
              "      <th>accuracy</th>\n",
              "      <th>time</th>\n",
              "    </tr>\n",
              "  </thead>\n",
              "  <tbody>\n",
              "    <tr>\n",
              "      <td>0</td>\n",
              "      <td>0.240684</td>\n",
              "      <td>0.182933</td>\n",
              "      <td>0.951200</td>\n",
              "      <td>00:28</td>\n",
              "    </tr>\n",
              "    <tr>\n",
              "      <td>1</td>\n",
              "      <td>0.131923</td>\n",
              "      <td>0.109541</td>\n",
              "      <td>0.968700</td>\n",
              "      <td>00:26</td>\n",
              "    </tr>\n",
              "    <tr>\n",
              "      <td>2</td>\n",
              "      <td>0.106307</td>\n",
              "      <td>0.163265</td>\n",
              "      <td>0.949000</td>\n",
              "      <td>00:25</td>\n",
              "    </tr>\n",
              "    <tr>\n",
              "      <td>3</td>\n",
              "      <td>0.090661</td>\n",
              "      <td>0.182765</td>\n",
              "      <td>0.949200</td>\n",
              "      <td>00:27</td>\n",
              "    </tr>\n",
              "    <tr>\n",
              "      <td>4</td>\n",
              "      <td>0.077076</td>\n",
              "      <td>0.055200</td>\n",
              "      <td>0.983700</td>\n",
              "      <td>00:26</td>\n",
              "    </tr>\n",
              "    <tr>\n",
              "      <td>5</td>\n",
              "      <td>0.067294</td>\n",
              "      <td>0.056700</td>\n",
              "      <td>0.982800</td>\n",
              "      <td>00:25</td>\n",
              "    </tr>\n",
              "    <tr>\n",
              "      <td>6</td>\n",
              "      <td>0.059755</td>\n",
              "      <td>0.036805</td>\n",
              "      <td>0.988700</td>\n",
              "      <td>00:27</td>\n",
              "    </tr>\n",
              "    <tr>\n",
              "      <td>7</td>\n",
              "      <td>0.044613</td>\n",
              "      <td>0.033736</td>\n",
              "      <td>0.988700</td>\n",
              "      <td>00:26</td>\n",
              "    </tr>\n",
              "    <tr>\n",
              "      <td>8</td>\n",
              "      <td>0.038309</td>\n",
              "      <td>0.028473</td>\n",
              "      <td>0.990500</td>\n",
              "      <td>00:26</td>\n",
              "    </tr>\n",
              "    <tr>\n",
              "      <td>9</td>\n",
              "      <td>0.026076</td>\n",
              "      <td>0.021377</td>\n",
              "      <td>0.993600</td>\n",
              "      <td>00:27</td>\n",
              "    </tr>\n",
              "    <tr>\n",
              "      <td>10</td>\n",
              "      <td>0.020369</td>\n",
              "      <td>0.015531</td>\n",
              "      <td>0.995500</td>\n",
              "      <td>00:25</td>\n",
              "    </tr>\n",
              "    <tr>\n",
              "      <td>11</td>\n",
              "      <td>0.017848</td>\n",
              "      <td>0.016115</td>\n",
              "      <td>0.995300</td>\n",
              "      <td>00:26</td>\n",
              "    </tr>\n",
              "  </tbody>\n",
              "</table>"
            ],
            "text/plain": [
              "<IPython.core.display.HTML object>"
            ]
          },
          "metadata": {
            "tags": []
          }
        }
      ]
    },
    {
      "metadata": {
        "id": "F6waPlRvQMIE",
        "colab_type": "code",
        "colab": {
          "base_uri": "https://localhost:8080/",
          "height": 1649
        },
        "outputId": "09b393b2-ad24-4037-8a35-04aaeca05e79"
      },
      "cell_type": "code",
      "source": [
        "print(learn.summary())"
      ],
      "execution_count": 49,
      "outputs": [
        {
          "output_type": "stream",
          "text": [
            "======================================================================\n",
            "Layer (type)         Output Shape         Param #    Trainable \n",
            "======================================================================\n",
            "Conv2d               [8, 14, 14]          72         True      \n",
            "______________________________________________________________________\n",
            "ReLU                 [8, 14, 14]          0          False     \n",
            "______________________________________________________________________\n",
            "BatchNorm2d          [8, 14, 14]          16         True      \n",
            "______________________________________________________________________\n",
            "Conv2d               [8, 14, 14]          576        True      \n",
            "______________________________________________________________________\n",
            "ReLU                 [8, 14, 14]          0          False     \n",
            "______________________________________________________________________\n",
            "BatchNorm2d          [8, 14, 14]          16         True      \n",
            "______________________________________________________________________\n",
            "Conv2d               [8, 14, 14]          576        True      \n",
            "______________________________________________________________________\n",
            "ReLU                 [8, 14, 14]          0          False     \n",
            "______________________________________________________________________\n",
            "BatchNorm2d          [8, 14, 14]          16         True      \n",
            "______________________________________________________________________\n",
            "MergeLayer           [8, 14, 14]          0          False     \n",
            "______________________________________________________________________\n",
            "Conv2d               [16, 7, 7]           1,152      True      \n",
            "______________________________________________________________________\n",
            "ReLU                 [16, 7, 7]           0          False     \n",
            "______________________________________________________________________\n",
            "BatchNorm2d          [16, 7, 7]           32         True      \n",
            "______________________________________________________________________\n",
            "Conv2d               [16, 7, 7]           2,304      True      \n",
            "______________________________________________________________________\n",
            "ReLU                 [16, 7, 7]           0          False     \n",
            "______________________________________________________________________\n",
            "BatchNorm2d          [16, 7, 7]           32         True      \n",
            "______________________________________________________________________\n",
            "Conv2d               [16, 7, 7]           2,304      True      \n",
            "______________________________________________________________________\n",
            "ReLU                 [16, 7, 7]           0          False     \n",
            "______________________________________________________________________\n",
            "BatchNorm2d          [16, 7, 7]           32         True      \n",
            "______________________________________________________________________\n",
            "MergeLayer           [16, 7, 7]           0          False     \n",
            "______________________________________________________________________\n",
            "Conv2d               [32, 4, 4]           4,608      True      \n",
            "______________________________________________________________________\n",
            "ReLU                 [32, 4, 4]           0          False     \n",
            "______________________________________________________________________\n",
            "BatchNorm2d          [32, 4, 4]           64         True      \n",
            "______________________________________________________________________\n",
            "Conv2d               [32, 4, 4]           9,216      True      \n",
            "______________________________________________________________________\n",
            "ReLU                 [32, 4, 4]           0          False     \n",
            "______________________________________________________________________\n",
            "BatchNorm2d          [32, 4, 4]           64         True      \n",
            "______________________________________________________________________\n",
            "Conv2d               [32, 4, 4]           9,216      True      \n",
            "______________________________________________________________________\n",
            "ReLU                 [32, 4, 4]           0          False     \n",
            "______________________________________________________________________\n",
            "BatchNorm2d          [32, 4, 4]           64         True      \n",
            "______________________________________________________________________\n",
            "MergeLayer           [32, 4, 4]           0          False     \n",
            "______________________________________________________________________\n",
            "Conv2d               [16, 2, 2]           4,608      True      \n",
            "______________________________________________________________________\n",
            "ReLU                 [16, 2, 2]           0          False     \n",
            "______________________________________________________________________\n",
            "BatchNorm2d          [16, 2, 2]           32         True      \n",
            "______________________________________________________________________\n",
            "Conv2d               [16, 2, 2]           2,304      True      \n",
            "______________________________________________________________________\n",
            "ReLU                 [16, 2, 2]           0          False     \n",
            "______________________________________________________________________\n",
            "BatchNorm2d          [16, 2, 2]           32         True      \n",
            "______________________________________________________________________\n",
            "Conv2d               [16, 2, 2]           2,304      True      \n",
            "______________________________________________________________________\n",
            "ReLU                 [16, 2, 2]           0          False     \n",
            "______________________________________________________________________\n",
            "BatchNorm2d          [16, 2, 2]           32         True      \n",
            "______________________________________________________________________\n",
            "MergeLayer           [16, 2, 2]           0          False     \n",
            "______________________________________________________________________\n",
            "Conv2d               [10, 1, 1]           1,440      True      \n",
            "______________________________________________________________________\n",
            "ReLU                 [10, 1, 1]           0          False     \n",
            "______________________________________________________________________\n",
            "BatchNorm2d          [10, 1, 1]           20         True      \n",
            "______________________________________________________________________\n",
            "Flatten              [10]                 0          False     \n",
            "______________________________________________________________________\n",
            "\n",
            "Total params: 41,132\n",
            "Total trainable params: 41,132\n",
            "Total non-trainable params: 0\n",
            "\n"
          ],
          "name": "stdout"
        }
      ]
    },
    {
      "metadata": {
        "id": "TAXEI-_6QMIM",
        "colab_type": "code",
        "colab": {}
      },
      "cell_type": "code",
      "source": [
        ""
      ],
      "execution_count": 0,
      "outputs": []
    }
  ]
}